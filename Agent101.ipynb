{
 "cells": [
  {
   "cell_type": "code",
   "execution_count": 14,
   "id": "2ede4cc2-e3af-4b50-9373-8909cc70e216",
   "metadata": {},
   "outputs": [],
   "source": [
    "import gym\n",
    "from gym import spaces\n",
    "import numpy as np\n",
    "import os\n",
    "import sys\n",
    "module_path = os.path.abspath(os.path.join('../../'))\n",
    "if module_path not in sys.path:\n",
    "    sys.path.append(module_path)\n",
    "\n",
    "from agent_torch.core import Runner, Registry\n",
    "from agent_torch.core.substep import SubstepObservation, SubstepAction, SubstepTransition\n",
    "from agent_torch.core.helpers import get_by_path, read_config, read_from_file, grid_network"
   ]
  },
  {
   "cell_type": "code",
   "execution_count": 6,
   "id": "f7b36140-5f17-4434-8ce6-54ccf670e20d",
   "metadata": {},
   "outputs": [],
   "source": [
    "\n",
    "class OptionTradingEnv(gym.Env):\n",
    "    def __init__(self):\n",
    "        super(OptionTradingEnv, self).__init__()\n",
    "        self.action_space = spaces.Discrete(3)  # Buy, Hold, Sell\n",
    "        self.observation_space = spaces.Box(low=0, high=1, shape=(10,), dtype=np.float32)\n",
    "        self.current_step = 0\n",
    "        self.done = False\n",
    "\n",
    "    def reset(self):\n",
    "        self.current_step = 0\n",
    "        self.done = False\n",
    "        return np.random.rand(10)\n",
    "\n",
    "    def step(self, action):\n",
    "        self.current_step += 1\n",
    "        reward = np.random.rand()  # Placeholder for actual reward calculation\n",
    "        self.done = self.current_step >= 100\n",
    "        return np.random.rand(10), reward, self.done, {}\n",
    "\n",
    "    def render(self, mode='human'):\n",
    "        pass"
   ]
  },
  {
   "cell_type": "code",
   "execution_count": 4,
   "id": "a4d2c619-03fd-4a45-9e93-ff70b08d3321",
   "metadata": {},
   "outputs": [
    {
     "ename": "ModuleNotFoundError",
     "evalue": "No module named 'agent_torch'",
     "output_type": "error",
     "traceback": [
      "\u001b[0;31m---------------------------------------------------------------------------\u001b[0m",
      "\u001b[0;31mModuleNotFoundError\u001b[0m                       Traceback (most recent call last)",
      "Cell \u001b[0;32mIn[4], line 4\u001b[0m\n\u001b[1;32m      2\u001b[0m \u001b[38;5;28;01mimport\u001b[39;00m \u001b[38;5;21;01mtorch\u001b[39;00m\u001b[38;5;21;01m.\u001b[39;00m\u001b[38;5;21;01mnn\u001b[39;00m \u001b[38;5;28;01mas\u001b[39;00m \u001b[38;5;21;01mnn\u001b[39;00m\n\u001b[1;32m      3\u001b[0m \u001b[38;5;28;01mimport\u001b[39;00m \u001b[38;5;21;01mtorch\u001b[39;00m\u001b[38;5;21;01m.\u001b[39;00m\u001b[38;5;21;01moptim\u001b[39;00m \u001b[38;5;28;01mas\u001b[39;00m \u001b[38;5;21;01moptim\u001b[39;00m\n\u001b[0;32m----> 4\u001b[0m \u001b[38;5;28;01mfrom\u001b[39;00m \u001b[38;5;21;01magent_torch\u001b[39;00m \u001b[38;5;28;01mimport\u001b[39;00m Agent\n\u001b[1;32m      6\u001b[0m \u001b[38;5;28;01mclass\u001b[39;00m \u001b[38;5;21;01mPolicyNetwork\u001b[39;00m(nn\u001b[38;5;241m.\u001b[39mModule):\n\u001b[1;32m      7\u001b[0m     \u001b[38;5;28;01mdef\u001b[39;00m \u001b[38;5;21m__init__\u001b[39m(\u001b[38;5;28mself\u001b[39m, input_dim, output_dim):\n",
      "\u001b[0;31mModuleNotFoundError\u001b[0m: No module named 'agent_torch'"
     ]
    }
   ],
   "source": [
    "import torch\n",
    "import torch.nn as nn\n",
    "import torch.optim as optim\n",
    "from agent_torch import Agent\n",
    "\n",
    "class PolicyNetwork(nn.Module):\n",
    "    def __init__(self, input_dim, output_dim):\n",
    "        super(PolicyNetwork, self).__init__()\n",
    "        self.fc = nn.Sequential(\n",
    "            nn.Linear(input_dim, 128),\n",
    "            nn.ReLU(),\n",
    "            nn.Linear(128, output_dim),\n",
    "            nn.Softmax(dim=-1)\n",
    "        )\n",
    "\n",
    "    def forward(self, x):\n",
    "        return self.fc(x)\n",
    "\n",
    "class OptionTradingAgent(Agent):\n",
    "    def __init__(self, env):\n",
    "        super(OptionTradingAgent, self).__init__(env)\n",
    "        self.policy_network = PolicyNetwork(env.observation_space.shape[0], env.action_space.n)\n",
    "        self.optimizer = optim.Adam(self.policy_network.parameters(), lr=0.001)\n",
    "\n",
    "    def select_action(self, state):\n",
    "        state = torch.FloatTensor(state).unsqueeze(0)\n",
    "        probs = self.policy_network(state)\n",
    "        action = torch.multinomial(probs, 1).item()\n",
    "        return action\n",
    "\n",
    "    def update_policy(self, rewards, log_probs):\n",
    "        loss = -torch.sum(torch.stack(log_probs) * torch.FloatTensor(rewards))\n",
    "        self.optimizer.zero_grad()\n",
    "        loss.backward()\n",
    "        self.optimizer.step()"
   ]
  },
  {
   "cell_type": "code",
   "execution_count": 5,
   "id": "d3271b7d-76f0-43ae-9bfb-65879849499c",
   "metadata": {},
   "outputs": [
    {
     "ename": "NameError",
     "evalue": "name 'OptionTradingAgent' is not defined",
     "output_type": "error",
     "traceback": [
      "\u001b[0;31m---------------------------------------------------------------------------\u001b[0m",
      "\u001b[0;31mNameError\u001b[0m                                 Traceback (most recent call last)",
      "Cell \u001b[0;32mIn[5], line 2\u001b[0m\n\u001b[1;32m      1\u001b[0m env \u001b[38;5;241m=\u001b[39m OptionTradingEnv()\n\u001b[0;32m----> 2\u001b[0m agent \u001b[38;5;241m=\u001b[39m \u001b[43mOptionTradingAgent\u001b[49m(env)\n\u001b[1;32m      4\u001b[0m num_episodes \u001b[38;5;241m=\u001b[39m \u001b[38;5;241m1000\u001b[39m\n\u001b[1;32m      5\u001b[0m \u001b[38;5;28;01mfor\u001b[39;00m episode \u001b[38;5;129;01min\u001b[39;00m \u001b[38;5;28mrange\u001b[39m(num_episodes):\n",
      "\u001b[0;31mNameError\u001b[0m: name 'OptionTradingAgent' is not defined"
     ]
    }
   ],
   "source": [
    "env = OptionTradingEnv()\n",
    "agent = OptionTradingAgent(env)\n",
    "\n",
    "num_episodes = 1000\n",
    "for episode in range(num_episodes):\n",
    "    state = env.reset()\n",
    "    log_probs = []\n",
    "    rewards = []\n",
    "    done = False\n",
    "\n",
    "    while not done:\n",
    "        action = agent.select_action(state)\n",
    "        next_state, reward, done, _ = env.step(action)\n",
    "        log_probs.append(torch.log(agent.policy_network(torch.FloatTensor(state).unsqueeze(0))[0][action]))\n",
    "        rewards.append(reward)\n",
    "        state = next_state\n",
    "\n",
    "    agent.update_policy(rewards, log_probs)\n",
    "    print(f\"Episode {episode + 1}/{num_episodes} completed\")"
   ]
  },
  {
   "cell_type": "code",
   "execution_count": null,
   "id": "92cdf2ad-9546-445d-83fd-eeaabeab7aef",
   "metadata": {},
   "outputs": [],
   "source": []
  }
 ],
 "metadata": {
  "kernelspec": {
   "display_name": "Python 3 (ipykernel)",
   "language": "python",
   "name": "python3"
  },
  "language_info": {
   "codemirror_mode": {
    "name": "ipython",
    "version": 3
   },
   "file_extension": ".py",
   "mimetype": "text/x-python",
   "name": "python",
   "nbconvert_exporter": "python",
   "pygments_lexer": "ipython3",
   "version": "3.9.16"
  }
 },
 "nbformat": 4,
 "nbformat_minor": 5
}
