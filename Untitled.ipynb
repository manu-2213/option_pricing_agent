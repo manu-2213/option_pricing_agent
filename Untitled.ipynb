{
 "cells": [
  {
   "cell_type": "code",
   "execution_count": 14,
   "id": "2ede4cc2-e3af-4b50-9373-8909cc70e216",
   "metadata": {},
   "outputs": [],
   "source": [
    "import gym\n",
    "from gym import spaces\n",
    "import numpy as np\n",
    "import os\n",
    "import sys\n",
    "module_path = os.path.abspath(os.path.join('../../'))\n",
    "if module_path not in sys.path:\n",
    "    sys.path.append(module_path)\n",
    "\n",
    "from agent_torch.core import Runner, Registry\n",
    "from agent_torch.core.substep import SubstepObservation, SubstepAction, SubstepTransition\n",
    "from agent_torch.core.helpers import get_by_path, read_config, read_from_file, grid_network"
   ]
  },
  {
   "cell_type": "code",
   "execution_count": null,
   "id": "92cdf2ad-9546-445d-83fd-eeaabeab7aef",
   "metadata": {},
   "outputs": [],
   "source": []
  }
 ],
 "metadata": {
  "kernelspec": {
   "display_name": "Python 3 (ipykernel)",
   "language": "python",
   "name": "python3"
  },
  "language_info": {
   "codemirror_mode": {
    "name": "ipython",
    "version": 3
   },
   "file_extension": ".py",
   "mimetype": "text/x-python",
   "name": "python",
   "nbconvert_exporter": "python",
   "pygments_lexer": "ipython3",
   "version": "3.9.16"
  }
 },
 "nbformat": 4,
 "nbformat_minor": 5
}
