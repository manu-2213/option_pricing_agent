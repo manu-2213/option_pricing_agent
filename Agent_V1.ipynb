{
 "cells": [
  {
   "cell_type": "code",
   "execution_count": 14,
   "id": "2ede4cc2-e3af-4b50-9373-8909cc70e216",
   "metadata": {},
   "outputs": [],
   "source": [
    "import gym\n",
    "from gym import spaces\n",
    "import numpy as np\n",
    "import os\n",
    "import sys\n",
    "module_path = os.path.abspath(os.path.join('../../'))\n",
    "if module_path not in sys.path:\n",
    "    sys.path.append(module_path)\n",
    "\n",
    "from agent_torch.core import Runner, Registry\n",
    "from agent_torch.core.substep import SubstepObservation, SubstepAction, SubstepTransition\n",
    "from agent_torch.core.helpers import get_by_path, read_config, read_from_file, grid_network"
   ]
  },
  {
   "cell_type": "code",
   "execution_count": 1,
   "id": "92cdf2ad-9546-445d-83fd-eeaabeab7aef",
   "metadata": {},
   "outputs": [],
   "source": [
    "import torch\n",
    "import torch.nn as nn\n",
    "import numpy as np\n",
    "import random\n",
    "import argparse"
   ]
  },
  {
   "cell_type": "code",
   "execution_count": 2,
   "id": "5ff319db-6e2f-404a-94de-2082a56b1396",
   "metadata": {},
   "outputs": [],
   "source": [
    "# Define helper functions\n",
    "\n",
    "def get_var(state, var):\n",
    "    \"\"\"\n",
    "    Retrieves a value from the current state of the model.\n",
    "    \"\"\"\n",
    "    return get_by_path(state, var.split('/')) # Turn 'layer1/bias' to '['layer1', 'bias']"
   ]
  },
  {
   "cell_type": "code",
   "execution_count": 4,
   "id": "66970965-962b-4ba3-b209-f84380533bf2",
   "metadata": {},
   "outputs": [],
   "source": [
    "# How does this function work? Let's look at how get_by_path is defined\n",
    "\n",
    "from functools import reduce\n",
    "import operator\n",
    "import torch\n",
    "from torch import nn\n",
    "\n",
    "\n",
    "def get_by_path(root, items): # This code feels like it could be easily optimized, am I missing something?\n",
    "    r\"\"\"\n",
    "    Access a nested object in root by item sequence\n",
    "    \"\"\"\n",
    "    property_obj = reduce(operator.getitem, items, root)\n",
    "\n",
    "    \n",
    "    if isinstance(property_obj, nn.ModuleDict): # This bit handles PyTorch objects\n",
    "        return property_obj\n",
    "    elif isinstance(property_obj, nn.Module):\n",
    "        return property_obj()\n",
    "    else:\n",
    "        return property_obj"
   ]
  },
  {
   "cell_type": "markdown",
   "id": "b20022a7-acdc-4783-a8b4-262ceeae600d",
   "metadata": {},
   "source": [
    "## Example\n"
   ]
  },
  {
   "cell_type": "code",
   "execution_count": 13,
   "id": "c923e504-f90e-42d9-bc14-ec63e147374d",
   "metadata": {},
   "outputs": [
    {
     "name": "stdout",
     "output_type": "stream",
     "text": [
      "tensor([1., 2.])\n",
      "tensor([1., 2.])\n",
      "{'weights': tensor([1., 2.]), 'bias': tensor([0.5000])}\n"
     ]
    }
   ],
   "source": [
    "state = {\n",
    "    'layer1': {\n",
    "        'weights': torch.tensor([1.0, 2.0]),\n",
    "        'bias': torch.tensor([0.5])\n",
    "    },\n",
    "    'layer2': {\n",
    "        'weights': torch.tensor([3.0, 4.0]),\n",
    "        'bias': torch.tensor([0.1])\n",
    "    }\n",
    "}\n",
    "\n",
    "items = ['layer1', 'weights']\n",
    "\n",
    "weights = get_by_path(state, items)\n",
    "\n",
    "print(weights)\n",
    "\n",
    "property_obj = reduce(operator.getitem, items, state)\n",
    "\n",
    "print(property_obj)\n",
    "\n",
    "items = ['layer1']\n",
    "\n",
    "weights = get_by_path(state, items) # This will return a dictionary\n",
    "\n",
    "print(weights)"
   ]
  },
  {
   "cell_type": "markdown",
   "id": "d56b7d6e-055e-4243-9983-6eac53ddb879",
   "metadata": {},
   "source": [
    "### Explanation of the Model\n",
    "\n",
    "### Define helper functions"
   ]
  },
  {
   "cell_type": "code",
   "execution_count": 14,
   "id": "14a811a0-bb5f-4027-bb94-ee3df0d23937",
   "metadata": {},
   "outputs": [],
   "source": [
    "# Helper functions for input retrieval\n",
    "\n",
    "def get_market_update_input(state, input_variables):\n",
    "    market_state = get_var(state, input_variables['market_state'])\n",
    "    agents = get_var(state, input_variables['agents'])\n",
    "    return market_state, agents\n",
    "\n",
    "def get_rl_agent_observation_input(state, input_variables):\n",
    "    market_state = get_var(state, input_variables['market_state'])\n",
    "    llm_features = get_var(state, input_variables['llm_features'])\n",
    "    policy_network = get_var(state, input_variables['policy_network'])\n",
    "    return market_state, llm_features, policy_network\n",
    "\n",
    "def get_rl_agent_learning_input(state, input_variables):\n",
    "    hedging_error = get_var(state, input_variables['hedging_error'])\n",
    "    pnl = get_var(state, input_variables['pnl'])\n",
    "    policy_network = get_var(state, input_variables['policy_network'])\n",
    "    return hedging_error, pnl, policy_network"
   ]
  },
  {
   "cell_type": "code",
   "execution_count": null,
   "id": "e0c99362-4136-42a9-ada6-a4928834220d",
   "metadata": {},
   "outputs": [],
   "source": [
    "@Registry.register_substep(\"a\", \"observation\")\n",
    "class ObserveMarketData(SubstepObservation):\n",
    "    def __init__(self, *args, **kwargs):\n",
    "        super().__init__(*args, **kwargs)\n",
    "\n",
    "    def forward(self, state):"
   ]
  },
  {
   "cell_type": "code",
   "execution_count": null,
   "id": "2d19af7e-a338-485c-bb72-45efefffd0ea",
   "metadata": {},
   "outputs": [],
   "source": []
  }
 ],
 "metadata": {
  "kernelspec": {
   "display_name": "Python 3 (ipykernel)",
   "language": "python",
   "name": "python3"
  },
  "language_info": {
   "codemirror_mode": {
    "name": "ipython",
    "version": 3
   },
   "file_extension": ".py",
   "mimetype": "text/x-python",
   "name": "python",
   "nbconvert_exporter": "python",
   "pygments_lexer": "ipython3",
   "version": "3.9.16"
  }
 },
 "nbformat": 4,
 "nbformat_minor": 5
}
